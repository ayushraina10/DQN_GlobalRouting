{
 "cells": [
  {
   "cell_type": "code",
   "execution_count": 2,
   "metadata": {},
   "outputs": [],
   "source": [
    "import operator\n",
    "\n",
    "def _processTwoPinData(gridParameters):\n",
    "    # Real Router for Multiple Net\n",
    "    # Note: pinCoord input as absolute length coordinates\n",
    "    gridGraphSearch = twoPinASearch.AStarSearchGraph(gridParameters, capacity)\n",
    "\n",
    "    # Sort net\n",
    "    halfWireLength = init.VisualGraph(init.gridParameters(grid_info)).bounding_length()\n",
    "    #    print('Half Wire Length:',halfWireLength)\n",
    "\n",
    "    sortedHalfWireLength = sorted(halfWireLength.items(),key=operator.itemgetter(1),reverse=True) # Large2Small\n",
    "    # sortedHalfWireLength = sorted(halfWireLength.items(),key=operator.itemgetter(1),reverse=False) # Small2Large\n",
    "\n",
    "    netSort = []\n",
    "    for i in range(gridParameters['numNet']):\n",
    "        order = int(sortedHalfWireLength[i][0])\n",
    "        netSort.append(order)\n",
    "    # random order the nets\n",
    "    # print('netSort Before',netSort)\n",
    "    # random.shuffle(netSort)\n",
    "    # print('netSort After',netSort)\n",
    "\n",
    "    routeListMerged = []\n",
    "    routeListNotMerged = []\n",
    "\n",
    "    print('gridParameters',gridParameters)\n",
    "    # Getting two pin list combo (For RL)\n",
    "    twopinListCombo = []\n",
    "    twopinListComboCleared = []\n",
    "    for i in range(len(init.gridParameters(grid_info)['netInfo'])):\n",
    "        netNum = i\n",
    "        netPinList = []; netPinCoord = []\n",
    "        for j in range(0, gridParameters['netInfo'][netNum]['numPins']):\n",
    "            pin = tuple([int((gridParameters['netInfo'][netNum][str(j+1)][0]-gridParameters['Origin'][0])/gridParameters['tileWidth']),\n",
    "                             int((gridParameters['netInfo'][netNum][str(j+1)][1]-gridParameters['Origin'][1])/gridParameters['tileHeight']),\n",
    "                             int(gridParameters['netInfo'][netNum][str(j+1)][2]),\n",
    "                              int(gridParameters['netInfo'][netNum][str(j+1)][0]),\n",
    "                              int(gridParameters['netInfo'][netNum][str(j+1)][1])])\n",
    "            if pin[0:3] in netPinCoord:\n",
    "                continue\n",
    "            else:\n",
    "                netPinList.append(pin)\n",
    "                netPinCoord.append(pin[0:3])\n",
    "        twoPinList = []\n",
    "        for i in range(len(netPinList)-1):\n",
    "            pinStart = netPinList[i]\n",
    "            pinEnd = netPinList[i+1]\n",
    "            twoPinList.append([pinStart,pinEnd])\n",
    "\n",
    "        twoPinListVanilla = twoPinList\n",
    "\n",
    "        # Insert Tree method to decompose two pin problems here\n",
    "        twoPinList = tree.generateMST(twoPinList)\n",
    "    #        print('Two pin list after:', twoPinList, '\\n')\n",
    "\n",
    "        # Remove pin pairs that are in the same grid \n",
    "        nullPairList = []\n",
    "        for i in range(len(twoPinListVanilla)):\n",
    "            if twoPinListVanilla[i][0][:3] == twoPinListVanilla[i][1][:3]:\n",
    "                nullPairList.append(twoPinListVanilla[i])\n",
    "        for i in range(len(nullPairList)):\n",
    "            twoPinListVanilla.reomove(nullPairList[i])\n",
    "\n",
    "        # Remove pin pairs that are in the same grid \n",
    "        nullPairList = []\n",
    "        for i in range(len(twoPinList)):\n",
    "            if twoPinList[i][0][:3] == twoPinList[i][1][:3]:\n",
    "                nullPairList.append(twoPinList[i])\n",
    "        for i in range(len(nullPairList)):\n",
    "            twoPinList.reomove(nullPairList[i])\n",
    "\n",
    "        # Key: use original sequence of two pin pairs\n",
    "        twopinListComboCleared.append(twoPinListVanilla)\n",
    "\n",
    "    # print('twopinListComboCleared',twopinListComboCleared)\n",
    "    twoPinEachNetClear = []\n",
    "    for i in twopinListComboCleared:\n",
    "        num = 0\n",
    "        for j in i:\n",
    "            num = num + 1\n",
    "        twoPinEachNetClear.append(num)\n",
    "\n",
    "    # print('twoPinEachNetClear',twoPinEachNetClear)\n",
    "\n",
    "    for i in range(len(init.gridParameters(grid_info)['netInfo'])):\n",
    "        netNum = int(sortedHalfWireLength[i][0]) # i \n",
    "        # Sort the pins by a heuristic such as Min Spanning Tree or Rectilinear Steiner Tree\n",
    "        netPinList = []\n",
    "        netPinCoord = []\n",
    "        for j in range(0, gridParameters['netInfo'][netNum]['numPins']):\n",
    "            pin = tuple([int((gridParameters['netInfo'][netNum][str(j+1)][0]-gridParameters['Origin'][0])/gridParameters['tileWidth']),\n",
    "                             int((gridParameters['netInfo'][netNum][str(j+1)][1]-gridParameters['Origin'][1])/gridParameters['tileHeight']),\n",
    "                             int(gridParameters['netInfo'][netNum][str(j+1)][2]),\n",
    "                              int(gridParameters['netInfo'][netNum][str(j+1)][0]),\n",
    "                              int(gridParameters['netInfo'][netNum][str(j+1)][1])])\n",
    "            if pin[0:3] in netPinCoord:\n",
    "                continue\n",
    "            else:\n",
    "                netPinList.append(pin)\n",
    "                netPinCoord.append(pin[0:3])\n",
    "\n",
    "        twoPinList = []\n",
    "        for i in range(len(netPinList)-1):\n",
    "            pinStart = netPinList[i]\n",
    "            pinEnd = netPinList[i+1]\n",
    "            twoPinList.append([pinStart,pinEnd])\n",
    "\n",
    "        # Insert Tree method to decompose two pin problems here\n",
    "        twoPinList = tree.generateMST(twoPinList)\n",
    "    #        print('Two pin list after:', twoPinList, '\\n')\n",
    "\n",
    "        # Remove pin pairs that are in the same grid \n",
    "        nullPairList = []\n",
    "        for i in range(len(twoPinList)):\n",
    "            if twoPinList[i][0][:3] == twoPinList[i][1][:3]:\n",
    "                nullPairList.append(twoPinList[i])\n",
    "\n",
    "        for i in range(len(nullPairList)):\n",
    "            twoPinList.reomove(nullPairList[i])\n",
    "\n",
    "        # Key: Use MST sorted pin pair sequence under half wirelength sorted nets\n",
    "        twopinListCombo.append(twoPinList)\n",
    "\n",
    "    # print('twopinListCombo',twopinListCombo)\n",
    "\n",
    "    # for i in range(1):\n",
    "    for i in range(len(init.gridParameters(grid_info)['netInfo'])):\n",
    "\n",
    "        # Determine nets to wire based on sorted nets (stored in list sortedHalfWireLength)\n",
    "    #        print('*********************')\n",
    "        # print('Routing net No.',init.gridParameters(grid_info)['netInfo'][int(sortedHalfWireLength[i][0])]['netName'])\n",
    "        # (above output is to get actual netName)\n",
    "    #        print('Routing net No.',sortedHalfWireLength[i][0])\n",
    "\n",
    "        netNum = int(sortedHalfWireLength[i][0])\n",
    "\n",
    "        # Sort the pins by a heuristic such as Min Spanning Tree or Rectilinear Steiner Tree\n",
    "        netPinList = []\n",
    "        netPinCoord = []\n",
    "        for j in range(0, gridParameters['netInfo'][netNum]['numPins']):\n",
    "            pin = tuple([int((gridParameters['netInfo'][netNum][str(j+1)][0]-gridParameters['Origin'][0])/gridParameters['tileWidth']),\n",
    "                             int((gridParameters['netInfo'][netNum][str(j+1)][1]-gridParameters['Origin'][1])/gridParameters['tileHeight']),\n",
    "                             int(gridParameters['netInfo'][netNum][str(j+1)][2]),\n",
    "                              int(gridParameters['netInfo'][netNum][str(j+1)][0]),\n",
    "                              int(gridParameters['netInfo'][netNum][str(j+1)][1])])\n",
    "            if pin[0:3] in netPinCoord:\n",
    "                continue\n",
    "            else:\n",
    "                netPinList.append(pin)\n",
    "                netPinCoord.append(pin[0:3])\n",
    "        twoPinList = []\n",
    "        for i in range(len(netPinList)-1):\n",
    "            pinStart = netPinList[i]\n",
    "            pinEnd = netPinList[i+1]\n",
    "            twoPinList.append([pinStart,pinEnd])\n",
    "\n",
    "        # Insert Tree method to decompose two pin problems here\n",
    "        twoPinList = tree.generateMST(twoPinList)\n",
    "\n",
    "        # Remove pin pairs that are in the same grid \n",
    "        nullPairList = []\n",
    "        for i in range(len(twoPinList)):\n",
    "            if twoPinList[i][0][:3] == twoPinList[i][1][:3]:\n",
    "                nullPairList.append(twoPinList[i])\n",
    "        for i in range(len(nullPairList)):\n",
    "            twoPinList.reomove(nullPairList[i])\n",
    "\n",
    "        i = 1\n",
    "        routeListSingleNet = []\n",
    "        for twoPinPair in twoPinList:\n",
    "            pinStart = twoPinPair[0]; pinEnd =  twoPinPair[1]\n",
    "            route, cost = twoPinASearch.AStarSearchRouter(pinStart, pinEnd, gridGraphSearch)\n",
    "            routeListSingleNet.append(route)\n",
    "            i += 1\n",
    "\n",
    "        mergedrouteListSingleNet = []\n",
    "\n",
    "        for list in routeListSingleNet:\n",
    "            # if len(routeListSingleNet[0]) == 2:\n",
    "            #     mergedrouteListSingleNet.append(list[0])\n",
    "            #     mergedrouteListSingleNet.append(list[1])\n",
    "            # else:\n",
    "            for loc in list:\n",
    "                    if loc not in mergedrouteListSingleNet:\n",
    "                        mergedrouteListSingleNet.append(loc)\n",
    "\n",
    "        routeListMerged.append(mergedrouteListSingleNet)\n",
    "        routeListNotMerged.append(routeListSingleNet)\n",
    "\n",
    "        # Update capacity and grid graph after routing one pin pair\n",
    "        # # WARNING: there are some bugs in capacity update\n",
    "        # # # print(route)\n",
    "        # capacity = graph.updateCapacity(capacity, mergedrouteListSingleNet)\n",
    "        # gridGraph = twoPinASearch.AStarSearchGraph(gridParameters, capacity)\n",
    "\n",
    "    # print('\\nRoute List Merged:',routeListMerged)\n",
    "\n",
    "    twopinlist_nonet = []\n",
    "    for net in twopinListCombo:\n",
    "    # for net in twopinListComboCleared:\n",
    "        for pinpair in net:\n",
    "            twopinlist_nonet.append(pinpair)\n",
    "\n",
    "    # Get two pin numbers\n",
    "    twoPinNum = 0\n",
    "    twoPinNumEachNet = []\n",
    "    for i in range(len(init.gridParameters(grid_info)['netInfo'])):\n",
    "        netNum = int(sortedHalfWireLength[i][0]) # i\n",
    "        twoPinNum = twoPinNum + (init.gridParameters(grid_info)['netInfo'][netNum]['numPins'] - 1)\n",
    "        twoPinNumEachNet.append(init.gridParameters(grid_info)['netInfo'][netNum]['numPins'] - 1)\n",
    "    return twopinlist_nonet, twoPinNumEachNet\n",
    "\n",
    "\n",
    "def _feasibility(state, action, capacity):\n",
    "    if action == 0 and capacity[state[0], state[1], state[2]-1, 0] > 0 :\n",
    "        return True\n",
    "    elif action == 1 and capacity[state[0], state[1], state[2]-1, 1] > 0 :\n",
    "        return True\n",
    "    elif action == 2 and capacity[state[0], state[1], state[2]-1, 2] > 0 :\n",
    "        return True\n",
    "    elif action == 3 and capacity[state[0], state[1], state[2]-1, 3] > 0 :\n",
    "        return True\n",
    "    elif action == 4 and capacity[state[0], state[1], state[2]-1, 4] > 0 :\n",
    "        return True\n",
    "    elif action == 5 and capacity[state[0], state[1], state[2]-1, 5] > 0 :\n",
    "        return True\n",
    "    else:\n",
    "        return False\n",
    "    \n",
    "def _feasibilityComplex(state, action, capacity):\n",
    "    direction, distance = action\n",
    "    if direction == 0 and np.all(capacity[state[0]:state[0]+distance+1, state[1], state[2]-1, 0]) > 0 :\n",
    "        return True\n",
    "    elif direction == 1 and np.all(capacity[state[0]-distance:state[0]+1, state[1], state[2]-1, 1]) > 0 :\n",
    "        return True\n",
    "    elif direction == 2 and np.all(capacity[state[0], state[1]:state[1]+distance+1, state[2]-1, 2]) > 0 :\n",
    "        return True\n",
    "    elif direction == 3 and np.all(capacity[state[0], state[1]-distance:state[1]+1, state[2]-1, 3]) > 0 :\n",
    "        return True\n",
    "    elif direction == 4 and np.all(capacity[state[0], state[1], state[2]-1:state[2]-1+distance+1, 4]) > 0 :\n",
    "        return True\n",
    "    elif direction == 5 and np.all(capacity[state[0], state[1], state[2]-1-distance:state[2]-1+1, 5]) > 0 :\n",
    "        return True\n",
    "    else:\n",
    "        return False\n",
    "    "
   ]
  },
  {
   "cell_type": "code",
   "execution_count": 7,
   "metadata": {},
   "outputs": [],
   "source": [
    "from copy import deepcopy\n",
    "def getValidMoves(state = [], spatial_region = None, env = None):\n",
    "    #get a set of valid functions given a spatial prior\n",
    "\n",
    "    feasible1 = []\n",
    "#     feasible2 = []\n",
    "    \n",
    "    limits = {}\n",
    "    \n",
    "    for d in range(6):\n",
    "        lim_x, lim_y, lim_z = env.gridParameters['gridSize']\n",
    "\n",
    "        if d in [0, 1]:\n",
    "            limit = lim_x            \n",
    "            distance = abs((1-d)*(lim_x-1) - env.current_state[0])-1\n",
    "        elif d in [2, 3]:\n",
    "            limit = lim_y\n",
    "            distance = abs((1-d+2)*(lim_y-1) - env.current_state[1])-1\n",
    "        else:\n",
    "            limit = lim_z\n",
    "            distance = abs((1-d+4)*(lim_z-1) - env.current_state[2]+1)-1\n",
    "\n",
    "#         print(limit, d, distance)\n",
    "        limits[d] = [limit, distance]\n",
    "        \n",
    "        while distance >= 0:\n",
    "            if distance == 0:\n",
    "                if _feasibility(state = env.current_state, action = d, capacity = env.capacity) and env.current_step + distance+1 < env.max_step:\n",
    "                    feasible1.append([d, distance])\n",
    "                    break\n",
    "            else:\n",
    "                if _feasibilityComplex(state = env.current_state, action = [d, distance], capacity = env.capacity) and \\ \n",
    "                env.current_step + distance+1 < env.max_step:\n",
    "                    for s in range(distance+1):\n",
    "                        feasible1.append([d, s])\n",
    "                    break\n",
    "            distance -= 1\n",
    "                    \n",
    "#         for s in range(limit):\n",
    "# #             print(\"checking update of state\", d, s, copy_env.current_state)\n",
    "#             if _feasibility(state = copy_env.current_state, action = d, capacity = copy_env.capacity):\n",
    "#                 feasible2.append([d, s])\n",
    "#                 copy_env.step(d)\n",
    "#             else:\n",
    "#                 break\n",
    "    \n",
    "#     if feasible1!=feasible2:\n",
    "#         print(\"State\", state, env.current_state)\n",
    "#         print(feasible1, feasible2, limits)\n",
    "#         capacity = env.capacity\n",
    "#         for i in range(capacity.shape[-1]):\n",
    "#             plt.imshow(np.sum(capacity[:,:,:,i], axis = 2))\n",
    "#             plt.show()\n",
    "#         import pdb; pdb.set_trace()\n",
    "#         xxx\n",
    "    return feasible1\n",
    "\n",
    "def mapAction(state = [], action = None, env = None):\n",
    "    direction, distance = action\n",
    "\n",
    "#     print(\"mapping the following action\", direction, distance)\n",
    "    if distance<1:\n",
    "        return env, env.step(direction)\n",
    "    \n",
    "    while distance >= 1:\n",
    "#         print(\"inside while loop\", distance)\n",
    "        env.step(direction)\n",
    "        distance-=1\n",
    "    \n",
    "    return env, env.step(direction)"
   ]
  },
  {
   "cell_type": "code",
   "execution_count": 30,
   "metadata": {
    "collapsed": true,
    "jupyter": {
     "outputs_hidden": true
    },
    "tags": []
   },
   "outputs": [
    {
     "name": "stdout",
     "output_type": "stream",
     "text": [
      "gridParameters {'gridSize': [8, 8, 2], 'verticalCapacity': [0.0, 4.0], 'horizontalCapacity': [4.0, 0.0], 'minWidth': [1.0, 1.0], 'minSpacing': [0.0, 0.0], 'viaSpacing': [0.0, 0.0], 'Origin': [0.0, 0.0], 'tileWidth': 10.0, 'tileHeight': 10.0, 'reducedCapacitySpecify': {'1': [2, 3, 2, 2, 4, 2, 3], '2': [2, 2, 2, 2, 3, 2, 3], '3': [3, 2, 1, 4, 2, 1, 3]}, 'numNet': 20, 'netInfo': [{'netName': 'A1', 'netID': 1, 'numPins': 4, 'minWidth': 1.0, '1': [19, 35, 1], '2': [4, 65, 1], '3': [15, 45, 1], '4': [68, 43, 1]}, {'netName': 'A2', 'netID': 2, 'numPins': 2, 'minWidth': 1.0, '1': [35, 45, 1], '2': [79, 61, 1]}, {'netName': 'A3', 'netID': 3, 'numPins': 4, 'minWidth': 1.0, '1': [68, 69, 1], '2': [43, 42, 1], '3': [23, 40, 1], '4': [42, 43, 1]}, {'netName': 'A4', 'netID': 4, 'numPins': 3, 'minWidth': 1.0, '1': [68, 39, 1], '2': [14, 76, 1], '3': [26, 6, 1]}, {'netName': 'A5', 'netID': 5, 'numPins': 5, 'minWidth': 1.0, '1': [23, 72, 1], '2': [40, 2, 1], '3': [74, 34, 1], '4': [15, 71, 1], '5': [48, 61, 1]}, {'netName': 'A6', 'netID': 6, 'numPins': 2, 'minWidth': 1.0, '1': [20, 54, 1], '2': [16, 70, 1]}, {'netName': 'A7', 'netID': 7, 'numPins': 2, 'minWidth': 1.0, '1': [21, 39, 1], '2': [36, 50, 1]}, {'netName': 'A8', 'netID': 8, 'numPins': 3, 'minWidth': 1.0, '1': [59, 54, 1], '2': [13, 25, 1], '3': [76, 23, 1]}, {'netName': 'A9', 'netID': 9, 'numPins': 5, 'minWidth': 1.0, '1': [34, 46, 1], '2': [25, 64, 1], '3': [31, 9, 1], '4': [1, 42, 1], '5': [36, 15, 1]}, {'netName': 'A10', 'netID': 10, 'numPins': 5, 'minWidth': 1.0, '1': [63, 40, 1], '2': [11, 11, 1], '3': [30, 68, 1], '4': [31, 55, 1], '5': [38, 78, 1]}, {'netName': 'A11', 'netID': 11, 'numPins': 5, 'minWidth': 1.0, '1': [46, 33, 1], '2': [74, 15, 1], '3': [69, 31, 1], '4': [24, 39, 1], '5': [65, 1, 1]}, {'netName': 'A12', 'netID': 12, 'numPins': 4, 'minWidth': 1.0, '1': [38, 19, 1], '2': [67, 1, 1], '3': [43, 46, 1], '4': [62, 72, 1]}, {'netName': 'A13', 'netID': 13, 'numPins': 2, 'minWidth': 1.0, '1': [71, 1, 1], '2': [54, 43, 1]}, {'netName': 'A14', 'netID': 14, 'numPins': 5, 'minWidth': 1.0, '1': [41, 32, 1], '2': [40, 5, 1], '3': [25, 30, 1], '4': [41, 36, 1], '5': [73, 36, 1]}, {'netName': 'A15', 'netID': 15, 'numPins': 3, 'minWidth': 1.0, '1': [49, 1, 1], '2': [31, 8, 1], '3': [48, 53, 1]}, {'netName': 'A16', 'netID': 16, 'numPins': 4, 'minWidth': 1.0, '1': [10, 15, 1], '2': [25, 62, 1], '3': [52, 41, 1], '4': [76, 13, 1]}, {'netName': 'A17', 'netID': 17, 'numPins': 5, 'minWidth': 1.0, '1': [28, 17, 1], '2': [45, 18, 1], '3': [1, 60, 1], '4': [55, 38, 1], '5': [65, 73, 1]}, {'netName': 'A18', 'netID': 18, 'numPins': 5, 'minWidth': 1.0, '1': [40, 74, 1], '2': [44, 64, 1], '3': [71, 49, 1], '4': [24, 45, 1], '5': [31, 17, 1]}, {'netName': 'A19', 'netID': 19, 'numPins': 2, 'minWidth': 1.0, '1': [60, 49, 1], '2': [45, 18, 1]}, {'netName': 'A20', 'netID': 20, 'numPins': 4, 'minWidth': 1.0, '1': [52, 67, 1], '2': [49, 36, 1], '3': [7, 45, 1], '4': [77, 79, 1]}], 'reducedCapacity': ['3']}\n",
      "Plotting pre capacity\n"
     ]
    },
    {
     "data": {
      "image/png": "[encoded data removed]",
      "text/plain": [
       "<Figure size 432x288 with 6 Axes>"
      ]
     },
     "metadata": {
      "needs_background": "light"
     },
     "output_type": "display_data"
    },
    {
     "data": {
      "image/png": "[encoded data removed]",
      "text/plain": [
       "<Figure size 432x288 with 6 Axes>"
      ]
     },
     "metadata": {
      "needs_background": "light"
     },
     "output_type": "display_data"
    },
    {
     "name": "stdout",
     "output_type": "stream",
     "text": [
      "Plotting post capacity\n"
     ]
    },
    {
     "data": {
      "image/png": "[encoded data removed]",
      "text/plain": [
       "<Figure size 432x288 with 6 Axes>"
      ]
     },
     "metadata": {
      "needs_background": "light"
     },
     "output_type": "display_data"
    },
    {
     "name": "stdout",
     "output_type": "stream",
     "text": [
      "starting new episode 0\n",
      "Plotting pre capacity\n"
     ]
    },
    {
     "data": {
      "image/png": "[encoded data removed]",
      "text/plain": [
       "<Figure size 432x288 with 6 Axes>"
      ]
     },
     "metadata": {
      "needs_background": "light"
     },
     "output_type": "display_data"
    },
    {
     "data": {
      "image/png": "[encoded data removed]",
      "text/plain": [
       "<Figure size 432x288 with 6 Axes>"
      ]
     },
     "metadata": {
      "needs_background": "light"
     },
     "output_type": "display_data"
    },
    {
     "name": "stdout",
     "output_type": "stream",
     "text": [
      "Plotting post capacity\n"
     ]
    },
    {
     "data": {
      "image/png": "[encoded data removed]",
      "text/plain": [
       "<Figure size 432x288 with 6 Axes>"
      ]
     },
     "metadata": {
      "needs_background": "light"
     },
     "output_type": "display_data"
    },
    {
     "name": "stdout",
     "output_type": "stream",
     "text": [
      "starting new episode 1\n",
      "Plotting pre capacity\n"
     ]
    },
    {
     "data": {
      "image/png": "[encoded data removed]",
      "text/plain": [
       "<Figure size 432x288 with 6 Axes>"
      ]
     },
     "metadata": {
      "needs_background": "light"
     },
     "output_type": "display_data"
    },
    {
     "data": {
      "image/png": "[encoded data removed]",
      "text/plain": [
       "<Figure size 432x288 with 6 Axes>"
      ]
     },
     "metadata": {
      "needs_background": "light"
     },
     "output_type": "display_data"
    },
    {
     "name": "stdout",
     "output_type": "stream",
     "text": [
      "Plotting post capacity\n"
     ]
    },
    {
     "data": {
      "image/png": "[encoded data removed]",
      "text/plain": [
       "<Figure size 432x288 with 6 Axes>"
      ]
     },
     "metadata": {
      "needs_background": "light"
     },
     "output_type": "display_data"
    },
    {
     "name": "stdout",
     "output_type": "stream",
     "text": [
      "starting new episode 2\n",
      "Plotting pre capacity\n"
     ]
    },
    {
     "data": {
      "image/png": "[encoded data removed]",
      "text/plain": [
       "<Figure size 432x288 with 6 Axes>"
      ]
     },
     "metadata": {
      "needs_background": "light"
     },
     "output_type": "display_data"
    },
    {
     "data": {
      "image/png": "[encoded data removed]",
      "text/plain": [
       "<Figure size 432x288 with 6 Axes>"
      ]
     },
     "metadata": {
      "needs_background": "light"
     },
     "output_type": "display_data"
    },
    {
     "name": "stdout",
     "output_type": "stream",
     "text": [
      "Plotting post capacity\n"
     ]
    },
    {
     "data": {
      "image/png": "[encoded data removed]",
      "text/plain": [
       "<Figure size 432x288 with 6 Axes>"
      ]
     },
     "metadata": {
      "needs_background": "light"
     },
     "output_type": "display_data"
    },
    {
     "name": "stdout",
     "output_type": "stream",
     "text": [
      "starting new episode 3\n",
      "Plotting pre capacity\n"
     ]
    },
    {
     "data": {
      "image/png": "[encoded data removed]",
      "text/plain": [
       "<Figure size 432x288 with 6 Axes>"
      ]
     },
     "metadata": {
      "needs_background": "light"
     },
     "output_type": "display_data"
    },
    {
     "data": {
      "image/png": "[encoded data removed]",
      "text/plain": [
       "<Figure size 432x288 with 6 Axes>"
      ]
     },
     "metadata": {
      "needs_background": "light"
     },
     "output_type": "display_data"
    },
    {
     "name": "stdout",
     "output_type": "stream",
     "text": [
      "Plotting post capacity\n"
     ]
    },
    {
     "data": {
      "image/png": "[encoded data removed]",
      "text/plain": [
       "<Figure size 432x288 with 6 Axes>"
      ]
     },
     "metadata": {
      "needs_background": "light"
     },
     "output_type": "display_data"
    },
    {
     "name": "stdout",
     "output_type": "stream",
     "text": [
      "starting new episode 4\n",
      "FOr 20 episodes it took 4.932458162307739\n"
     ]
    }
   ],
   "source": [
    "import numpy as np\n",
    "import Initializer as init\n",
    "import GridGraph as graph\n",
    "\n",
    "import TwoPinRouterASearch as twoPinASearch\n",
    "import MST as tree\n",
    "\n",
    "import time\n",
    "\n",
    "%matplotlib inline\n",
    "import matplotlib.pyplot as plt\n",
    "\n",
    "###INIT\n",
    "# filename = \"benchmark_reduced/test_benchmark_{num}.gr\".format(num=i+1)\n",
    "filename = \"benchmark_reduced/test_benchmark_6.gr\"\n",
    "\n",
    "grid_info = init.read(filename)\n",
    "gridParameters = init.gridParameters(grid_info)\n",
    "# print(gridParameters)\n",
    "\n",
    "# # GridGraph\n",
    "graphcase = graph.GridGraph(init.gridParameters(grid_info))\n",
    "capacity = graphcase.generate_capacity()\n",
    "\n",
    "gridX,gridY,gridZ = graphcase.generate_grid()\n",
    "\n",
    "twopinlist_nonet, twoPinNumEachNet = processTwoPinData(gridParameters)\n",
    "\n",
    "# DRL Module from here\n",
    "graphcase.max_step = 100 #20\n",
    "graphcase.twopin_combo = twopinlist_nonet\n",
    "# print('twopinlist_nonet',twopinlist_nonet)\n",
    "graphcase.net_pair = twoPinNumEachNet\n",
    "\n",
    "##episode beginning\n",
    "\n",
    "#num of episodes\n",
    "no = 5\n",
    "\n",
    "# if model_file is not None:\n",
    "#     self.saver.restore(self.sess, model_file)\n",
    "reward_list = []\n",
    "state_list = []\n",
    "\n",
    "simple_action = False\n",
    "\n",
    "start = time.time()\n",
    "\n",
    "cum_reward = 0.0\n",
    "for episode in np.arange(no):\n",
    "    episode_reward = 0.0\n",
    "    \n",
    "    print(\"Plotting pre capacity\")\n",
    "    f, axs = plt.subplots(2, 3)\n",
    "    capacity = np.sum(graphcase.capacity, axis = 2)\n",
    "    for ctr, ax in enumerate(axs.flat):\n",
    "        ax.imshow(capacity[:,:,ctr])\n",
    "    plt.show()\n",
    "    \n",
    "    f, axs = plt.subplots(2, 3)\n",
    "    capacity = np.sum(graphcase.generate_capacity(), axis = 2)\n",
    "    for ctr, ax in enumerate(axs.flat):\n",
    "        ax.imshow(capacity[:,:,ctr])\n",
    "    plt.show()\n",
    "    \n",
    "    state = graphcase.reset()\n",
    "    graphcase.capacity = graphcase.generate_capacity()\n",
    "    print(\"Plotting post capacity\")\n",
    "    f, axs = plt.subplots(2, 3)\n",
    "    capacity = np.sum(graphcase.capacity, axis = 2)\n",
    "    for ctr, ax in enumerate(axs.flat):\n",
    "        ax.imshow(capacity[:,:,ctr])\n",
    "    plt.show()\n",
    "    is_terminal = False\n",
    "    \n",
    "    ep_state = [state]\n",
    "    print(\"starting new episode\", episode)\n",
    "    while not is_terminal:\n",
    "        observation = graphcase.state2obsv()\n",
    "        #return q_values\n",
    "#         q_values = self.sess.run(self.qNetwork.output, feed_dict={self.qNetwork.input: observation})\n",
    "\n",
    "        if simple_action:\n",
    "            q_values = np.random.rand(6)\n",
    "            #select the action from q_values\n",
    "            action = np.argmax(q_values)\n",
    "            nextstate, reward, is_terminal, debug = graphcase.step(action)\n",
    "        else:\n",
    "            feasible_actions = getValidMoves(state = graphcase.current_state, spatial_region = 0, env = graphcase)\n",
    "#             print(feasible_actions)\n",
    "            index = np.random.randint(len(feasible_actions))\n",
    "            action = feasible_actions[index]\n",
    "#             print(\"selected action\", action)\n",
    "            graphcase, returned_step = mapAction(state = graphcase.current_state, action = action, env = graphcase)\n",
    "            nextstate, reward, is_terminal, debug = returned_step\n",
    "        \n",
    "        if state == nextstate:\n",
    "            print(action, state)\n",
    "            xxx\n",
    "\n",
    "#         print(graphcase.generate_grid()[1].shape, graphcase.capacity.shape)\n",
    "#         xxxx\n",
    "#         if is_terminal:#np.random.rand()>.8:\n",
    "#             print(\"Plotting capacity\")\n",
    "#             f, axs = plt.subplots(2,6)\n",
    "#             capacity = graphcase.capacity\n",
    "#             for ctr in range(6):\n",
    "#                 axs[0,ctr].imshow(capacity[:,:,0,ctr])\n",
    "#                 axs[1,ctr].imshow(capacity[:,:,1,ctr])\n",
    "#             plt.show()\n",
    "            \n",
    "#             print(\"Plotting grids\")\n",
    "#             f, axs = plt.subplots(2, 3)\n",
    "#             gridX, gridY, gridZ = graphcase.generate_grid()\n",
    "#             for ctr in range(2):\n",
    "#                 axs[ctr,0].imshow(gridX[:,:,ctr])\n",
    "#                 axs[ctr,1].imshow(gridY[:,:,ctr])\n",
    "#                 axs[ctr,2].imshow(gridZ[:,:,ctr])\n",
    "                \n",
    "#             plt.show()\n",
    "        \n",
    "        state = nextstate\n",
    "        episode_reward = episode_reward+reward\n",
    "        cum_reward = cum_reward+reward\n",
    "        ep_state.append([state, observation])\n",
    "        \n",
    "    state_list.append(ep_state)\n",
    "    reward_list.append(episode_reward)\n",
    "    \n",
    "end = time.time()\n",
    "\n",
    "print(\"FOr 20 episodes it took\", end - start)"
   ]
  },
  {
   "cell_type": "code",
   "execution_count": null,
   "metadata": {},
   "outputs": [],
   "source": [
    "np.all(capacity[state[0]:state[0]+distance+1, state[1], state[2]-1, 0]) > 0\n",
    "\n",
    "np.all(capacity[state[0], state[1]-distance:state[1], state[2]-1, 3]) > 0\n",
    "\n",
    "2, 4, 2\n",
    "\n",
    "2, 4 - 1:4,  2-1, 3"
   ]
  },
  {
   "cell_type": "code",
   "execution_count": 14,
   "metadata": {
    "collapsed": true,
    "jupyter": {
     "outputs_hidden": true
    },
    "tags": []
   },
   "outputs": [
    {
     "data": {
      "image/png": "[encoded data removed]",
      "text/plain": [
       "<Figure size 432x288 with 1 Axes>"
      ]
     },
     "metadata": {
      "needs_background": "light"
     },
     "output_type": "display_data"
    },
    {
     "data": {
      "image/png": "[encoded data removed]",
      "text/plain": [
       "<Figure size 432x288 with 1 Axes>"
      ]
     },
     "metadata": {
      "needs_background": "light"
     },
     "output_type": "display_data"
    },
    {
     "data": {
      "image/png": "[encoded data removed]",
      "text/plain": [
       "<Figure size 432x288 with 1 Axes>"
      ]
     },
     "metadata": {
      "needs_background": "light"
     },
     "output_type": "display_data"
    },
    {
     "data": {
      "image/png": "[encoded data removed]",
      "text/plain": [
       "<Figure size 432x288 with 1 Axes>"
      ]
     },
     "metadata": {
      "needs_background": "light"
     },
     "output_type": "display_data"
    },
    {
     "data": {
      "image/png": "[encoded data removed]",
      "text/plain": [
       "<Figure size 432x288 with 1 Axes>"
      ]
     },
     "metadata": {
      "needs_background": "light"
     },
     "output_type": "display_data"
    },
    {
     "data": {
      "image/png": "[encoded data removed]",
      "text/plain": [
       "<Figure size 432x288 with 1 Axes>"
      ]
     },
     "metadata": {
      "needs_background": "light"
     },
     "output_type": "display_data"
    }
   ],
   "source": [
    "##trying to visualize capacity\n",
    "\n",
    "%matplotlib inline\n",
    "\n",
    "import matplotlib.pyplot as plt\n",
    "\n",
    "capacity = graphcase.capacity\n",
    "\n",
    "for i in range(capacity.shape[-1]):\n",
    "    plt.imshow(np.sum(capacity[:,:,:,i], axis = 2))\n",
    "    plt.show()"
   ]
  },
  {
   "cell_type": "code",
   "execution_count": 26,
   "metadata": {
    "tags": []
   },
   "outputs": [
    {
     "data": {
      "text/plain": [
       "[[(0, 0, 0), (0, 0, 1)],\n",
       " [(2, 0, 1), (2, 0, 3)],\n",
       " [(2, 0, 1), (0, 0, 1)],\n",
       " [(2, 0, 0), (2, 2, 0)],\n",
       " [(2, 0, 0), (2, 0, 1)]]"
      ]
     },
     "execution_count": 26,
     "metadata": {},
     "output_type": "execute_result"
    }
   ],
   "source": [
    "import MST\n",
    "\n",
    "twoPinList = [[(0,0,0),(2,0,0)],[(2,0,0),(2,0,1)],[(2,0,1),(2,2,0)],[(2,2,0),(0,0,1)], [(0,0,0), (2,0,3)]]\n",
    "mst_list = MST.generateMST(twoPinList)\n",
    "mst_list"
   ]
  },
  {
   "cell_type": "code",
   "execution_count": null,
   "metadata": {},
   "outputs": [],
   "source": []
  },
  {
   "cell_type": "code",
   "execution_count": null,
   "metadata": {},
   "outputs": [],
   "source": [
    "#creating the wrapper function for therouting environment:\n",
    "import routing_utils as ru\n",
    "\n",
    "class RoutingAPI():\n",
    "\n",
    "    def __init__(self, filename = \"benchmark_reduced/test_benchmark_5.gr\", max_step = 100):\n",
    "    #initialization of variables that control the wrapper function and the original environment\n",
    "    \n",
    "    \"\"\"Functions in utils:\n",
    "        _feasibility()\n",
    "        _feasibilityComplex()\n",
    "        _processTwoPinData()\n",
    "        \n",
    "        \"\"\"\n",
    "        \n",
    "        #main variables associated with the problem and environment\n",
    "        self.grid_info = init.read(filename)\n",
    "        self.gridParameters = init.gridParameters(grid_info)\n",
    "\n",
    "        # # GridGraph environment\n",
    "        self.gridgraph = graph.GridGraph(init.gridParameters(self.grid_info))\n",
    "        self.capacity = self.gridgraph.generate_capacity()\n",
    "\n",
    "        twopinlist_nonet, twoPinNumEachNet = ru._processTwoPinData(gridParameters)\n",
    "\n",
    "        # DRL Module from here\n",
    "        self.gridgraph.max_step = max_step #20\n",
    "        self.gridgraph.twopin_combo = twopinlist_nonet\n",
    "        # print('twopinlist_nonet',twopinlist_nonet)\n",
    "        self.gridgraph.net_pair = twoPinNumEachNet\n",
    "    \n",
    "    \n",
    "    def _generate_image(self, compState = None):\n",
    "        \"\"\"\n",
    "        Input:\n",
    "        compState = [observation, [list of state variables]] \n",
    "\n",
    "        Output:\n",
    "        observation = [3 channel image, [state variables(gx, gy, gz, ax, ay, az)]]\n",
    "        \"\"\"\n",
    "        ##generate a 2d image of horizontal, vertical and via capacity\n",
    "        ##some indicator for current location of agent\n",
    "\n",
    "        ## variables for distance frorm goal, agent location\n",
    "        if compState not None:\n",
    "            self.reset_to(compState = compState)\n",
    "    \n",
    "        return np.sum(self.gridgraph.capacity, axis = 2)\n",
    "    \n",
    "    def saveCheckpoint(self):\n",
    "        \"\"\"\n",
    "        Returns a resumable checkpoint including all state variables\n",
    "        \n",
    "        returns [gridParameters, max_step, current_step, goal_state, init_state, current_state, capacity, route, \n",
    "        twopin_combo, twopint_pt, twopin_rdn, loop, reward, instantreward, instantrewardcombo, best_reward, \n",
    "        best_route, route_combo, net_pair, net_ind, pair_ind, passby, action, posTwoPinNum, episode] \"\"\"\n",
    "    \n",
    "        return [self.gridParameters, self.gridgraph.max_step, self.gridgraph.current_step, self.gridgraph.goal_state, \\\n",
    "                self.gridgraph.init_state, self.gridgraph.current_state, self.gridgraph.capacity, self.gridgraph.route, \\\n",
    "                self.gridgraph.twopin_combo, self.gridgraph.twopin_pt, self.gridgraph.twopin_rdn, self.gridgraph.loop, \\\n",
    "                self.gridgraph.reward, self.gridgraph.instantreward, self.gridgraph.instantrewardcombo, self.gridgraph.best_reward, \\\n",
    "                self.gridgraph.best_route, self.gridgraph.route_combo, self.gridgraph.net_pair, self.gridgraph.net_ind, self.gridgraph.pair_ind, \\\n",
    "                self.gridgraph.passby, self.gridgraph.action, self.gridgraph.posTwoPinNum, self.gridgraph.episode]        \n",
    "        \n",
    "    \n",
    "    def reset_to(self, checkpoint_state):\n",
    "        \"\"\"define the environment snapshot which can enable resuming the environment trajectory\n",
    "        state info: \n",
    "        [gridParameters, max_step, current_step, goal_state, init_state, current_state, capacity, route, \n",
    "        twopin_combo, twopint_pt, twopin_rdn, loop, reward, instantreward, instantrewardcombo, best_reward, \n",
    "        best_route, route_combo, net_pair, net_ind, pair_ind, passby, action, posTwoPinNum, episode]\n",
    "        \n",
    "        \"\"\"\n",
    "        #update the state variables to the given set of values\n",
    "        \n",
    "        self.gridParameters, self.gridgraph.max_step, self.gridgraph.current_step, self.gridgraph.goal_state, \\\n",
    "                self.gridgraph.init_state, self.gridgraph.current_state, self.gridgraph.capacity, self.gridgraph.route, \\\n",
    "                self.gridgraph.twopin_combo, self.gridgraph.twopin_pt, self.gridgraph.twopin_rdn, self.gridgraph.loop, \\\n",
    "                self.gridgraph.reward, self.gridgraph.instantreward, self.gridgraph.instantrewardcombo, self.gridgraph.best_reward, \\\n",
    "                self.gridgraph.best_route, self.gridgraph.route_combo, self.gridgraph.net_pair, self.gridgraph.net_ind, self.gridgraph.pair_ind, \\\n",
    "                self.gridgraph.passby, self.gridgraph.action, self.gridgraph.posTwoPinNum, self.gridgraph.episode = checkpoint_state \n",
    "\n",
    "        \n",
    "    def _mapAction(self, action = None):\n",
    "        \"\"\"This function maps complex action to the basic functions in the older environment\"\"\"\n",
    "        \n",
    "        direction, distance = action\n",
    "        if distance<1:\n",
    "            return self.gridgraph.step(direction)\n",
    "\n",
    "        while distance >= 1:\n",
    "            self.gridgraph.step(direction)\n",
    "            distance-=1\n",
    "\n",
    "        return self.gridgraph.step(direction)\n",
    "        \n",
    "    def getNextState(self, compState = None, action = None):\n",
    "        \"\"\"\n",
    "        Input:\n",
    "        compState = [observation, [list of state variables]] \n",
    "        action = [direction: one-hot, distance: one-hot] (0-5, 0-N)\n",
    "        \n",
    "        Output:\n",
    "        nextCompState = [nextObservation, [updated list of state variables]]\n",
    "        reward\n",
    "        done\n",
    "        _\n",
    "        \n",
    "        Algo:\n",
    "        - reset the environment to the input compState\n",
    "        - renormalize the state and action input\n",
    "        - map complex action to basic actions (repeat action)\n",
    "        - return the update the step output\n",
    "        \"\"\"\n",
    "        \n",
    "        #get next state\n",
    "        ##mapping function that converts the complex action \n",
    "        ##into a sequence of unit actions\n",
    "        \n",
    "        if compState not None:\n",
    "            self.reset_to(compState = compState)\n",
    "        \n",
    "        direction = np.argmax(action[:6])\n",
    "        distance = np.argmax(action[6:])\n",
    "            \n",
    "        return self._mapAction([direction, distance])\n",
    "        \n",
    "    \n",
    "    def getValidMoves(state = None, spatial_region = None):\n",
    "        #get a set of valid functions given a spatial prior\n",
    "        ##generate a list of all actions in increasing distance\n",
    "        ##loop them through the feasibility of those actions, discard higher distances if small distance is infeasible\n",
    "        if compState not None:\n",
    "            self.reset_to(compState = compState)\n",
    "        \n",
    "        feasible = []\n",
    "        #for debugging\n",
    "        limits = {}\n",
    "        \n",
    "        #loop through all directions\n",
    "        for d in range(6):\n",
    "            lim_x, lim_y, lim_z = self.gridParameters['gridSize']\n",
    "            if d in [0, 1]:     \n",
    "                distance = abs((1-d)*(lim_x-1) - self.gridgraph.current_state[0])-1\n",
    "            elif d in [2, 3]:\n",
    "                distance = abs((1-d+2)*(lim_y-1) - self.gridgraph.current_state[1])-1\n",
    "            else:\n",
    "                distance = abs((1-d+4)*(lim_z-1) - self.gridgraph.current_state[2]+1)-1\n",
    "            #limits[d] = [limit, distance]\n",
    "                \n",
    "            while distance >= 0:\n",
    "                if distance == 0:\n",
    "                    if ru._feasibility(state = self.gridgraph.current_state, action = d, capacity = self.gridgraph.capacity) and \\\n",
    "                    self.gridgraph.current_step + distance+1 < self.gridgraph.max_step:\n",
    "                        feasible1.append([d, distance])\n",
    "                        break\n",
    "                else:\n",
    "                    if ru._feasibilityComplex(state = self.gridgraph.current_state, action = [d, distance], capacity = self.gridgraph.capacity) and \\ \n",
    "                    self.gridgraph.current_step + distance+1 < self.gridgraph.max_step:\n",
    "                        for s in range(distance+1):\n",
    "                            feasible1.append([d, s])\n",
    "                        break\n",
    "                distance -= 1\n",
    "        return feasible1\n",
    "        \n",
    "    def getReward(self, compState = None):\n",
    "        #get reward\n",
    "        if compState not None:\n",
    "            self.reset_to(compState = compState)\n",
    "            \n",
    "        return self.gridgraph.reward\n",
    "            \n"
   ]
  }
 ],
 "metadata": {
  "interpreter": {
   "hash": "e7370f93d1d0cde622a1f8e1c04877d8463912d04d973331ad4851f04de6915a"
  },
  "kernelspec": {
   "display_name": "Python 3",
   "language": "python",
   "name": "python3"
  },
  "language_info": {
   "codemirror_mode": {
    "name": "ipython",
    "version": 3
   },
   "file_extension": ".py",
   "mimetype": "text/x-python",
   "name": "python",
   "nbconvert_exporter": "python",
   "pygments_lexer": "ipython3",
   "version": "3.6.13"
  }
 },
 "nbformat": 4,
 "nbformat_minor": 4
}
